{
 "cells": [
  {
   "cell_type": "code",
   "execution_count": null,
   "id": "19124c92-a28e-421f-a518-fa2e9e2e0d39",
   "metadata": {},
   "outputs": [],
   "source": [
    "\"\"\"📊 General Analysis\n",
    "What are the top 10 locations with the highest number of restaurants?\n",
    "\n",
    "Which cuisines are most commonly served across restaurants?\n",
    "\n",
    "What is the average rating of restaurants in each location?\n",
    "\n",
    "Which restaurants have the highest number of votes?\n",
    "\n",
    "What is the most common cost for two people?\n",
    "\n",
    "📈 Ratings Analysis\n",
    "What is the distribution of restaurant ratings?\n",
    "\n",
    "Is there a relationship between rating and number of votes?\n",
    "\n",
    "Do restaurants with online ordering tend to have higher ratings?\n",
    "\n",
    "How do ratings differ across locations?\n",
    "\n",
    "💰 Cost Analysis\n",
    "Which locations have the highest average cost for two?\n",
    "\n",
    "Is there a correlation between cost and rating?\n",
    "\n",
    "How does average cost differ for restaurants that offer online ordering?\n",
    "\n",
    "📍 Location & Cuisine-Based\n",
    "Which cuisine is the most popular in Koramangala?\n",
    "\n",
    "Which location has the most restaurants serving North Indian cuisine?\n",
    "\n",
    "What are the top-rated cuisines on average?\n",
    "\n",
    "📦 Online Ordering Impact\n",
    "How many restaurants offer online ordering vs not?\n",
    "\n",
    "What is the average rating for restaurants with vs without online ordering?\n",
    "\n",
    "Is online ordering more common in any particular location?\n",
    "\n",
    "🏅 Top Performers\n",
    "Which are the top 10 highest-rated restaurants overall?\n",
    "\n",
    "Which restaurant has the maximum votes in each location?\"\"\""
   ]
  },
  {
   "cell_type": "code",
   "execution_count": 1,
   "id": "34316406-4107-47ab-b393-6b5345c70af0",
   "metadata": {},
   "outputs": [],
   "source": [
    "import numpy as np\n",
    "import pandas as pd\n",
    "import matplotlib.pyplot as plt\n",
    "import seaborn as sns"
   ]
  },
  {
   "cell_type": "code",
   "execution_count": 2,
   "id": "06fdd399-5f75-4d01-b179-988c224b2d16",
   "metadata": {},
   "outputs": [],
   "source": [
    "df=pd.read_csv(r\"C:\\Users\\ladwa\\Desktop\\forproj\\zomato.csv\")"
   ]
  },
  {
   "cell_type": "code",
   "execution_count": 3,
   "id": "3536889f-6bf5-47c1-a079-84d2611dbc85",
   "metadata": {},
   "outputs": [
    {
     "data": {
      "text/html": [
       "<div>\n",
       "<style scoped>\n",
       "    .dataframe tbody tr th:only-of-type {\n",
       "        vertical-align: middle;\n",
       "    }\n",
       "\n",
       "    .dataframe tbody tr th {\n",
       "        vertical-align: top;\n",
       "    }\n",
       "\n",
       "    .dataframe thead th {\n",
       "        text-align: right;\n",
       "    }\n",
       "</style>\n",
       "<table border=\"1\" class=\"dataframe\">\n",
       "  <thead>\n",
       "    <tr style=\"text-align: right;\">\n",
       "      <th></th>\n",
       "      <th>name</th>\n",
       "      <th>location</th>\n",
       "      <th>rate</th>\n",
       "      <th>votes</th>\n",
       "      <th>approx_cost(for two people)</th>\n",
       "      <th>cuisines</th>\n",
       "      <th>online_order</th>\n",
       "    </tr>\n",
       "  </thead>\n",
       "  <tbody>\n",
       "    <tr>\n",
       "      <th>0</th>\n",
       "      <td>Meghana Foods</td>\n",
       "      <td>HSR</td>\n",
       "      <td>2.7</td>\n",
       "      <td>1410</td>\n",
       "      <td>800</td>\n",
       "      <td>Fast Food, South Indian</td>\n",
       "      <td>No</td>\n",
       "    </tr>\n",
       "    <tr>\n",
       "      <th>1</th>\n",
       "      <td>Burger King</td>\n",
       "      <td>Koramangala</td>\n",
       "      <td>4.6</td>\n",
       "      <td>1724</td>\n",
       "      <td>700</td>\n",
       "      <td>Biryani, Mexican</td>\n",
       "      <td>Yes</td>\n",
       "    </tr>\n",
       "    <tr>\n",
       "      <th>2</th>\n",
       "      <td>Domino's</td>\n",
       "      <td>HSR</td>\n",
       "      <td>4.6</td>\n",
       "      <td>1070</td>\n",
       "      <td>1000</td>\n",
       "      <td>Italian, American</td>\n",
       "      <td>No</td>\n",
       "    </tr>\n",
       "    <tr>\n",
       "      <th>3</th>\n",
       "      <td>McDonald's</td>\n",
       "      <td>Marathahalli</td>\n",
       "      <td>4.2</td>\n",
       "      <td>1109</td>\n",
       "      <td>1000</td>\n",
       "      <td>North Indian, South Indian</td>\n",
       "      <td>Yes</td>\n",
       "    </tr>\n",
       "    <tr>\n",
       "      <th>4</th>\n",
       "      <td>Truffles</td>\n",
       "      <td>Rajajinagar</td>\n",
       "      <td>4.6</td>\n",
       "      <td>2728</td>\n",
       "      <td>300</td>\n",
       "      <td>American, Cafe</td>\n",
       "      <td>Yes</td>\n",
       "    </tr>\n",
       "  </tbody>\n",
       "</table>\n",
       "</div>"
      ],
      "text/plain": [
       "            name      location  rate  votes  approx_cost(for two people)  \\\n",
       "0  Meghana Foods           HSR   2.7   1410                          800   \n",
       "1    Burger King   Koramangala   4.6   1724                          700   \n",
       "2       Domino's           HSR   4.6   1070                         1000   \n",
       "3     McDonald's  Marathahalli   4.2   1109                         1000   \n",
       "4       Truffles   Rajajinagar   4.6   2728                          300   \n",
       "\n",
       "                     cuisines online_order  \n",
       "0     Fast Food, South Indian           No  \n",
       "1            Biryani, Mexican          Yes  \n",
       "2           Italian, American           No  \n",
       "3  North Indian, South Indian          Yes  \n",
       "4              American, Cafe          Yes  "
      ]
     },
     "execution_count": 3,
     "metadata": {},
     "output_type": "execute_result"
    }
   ],
   "source": [
    "df.head()"
   ]
  },
  {
   "cell_type": "code",
   "execution_count": 4,
   "id": "c2d50199-056c-4c17-bb18-5cefed03efe0",
   "metadata": {},
   "outputs": [
    {
     "data": {
      "text/plain": [
       "name                           0\n",
       "location                       0\n",
       "rate                           0\n",
       "votes                          0\n",
       "approx_cost(for two people)    0\n",
       "cuisines                       0\n",
       "online_order                   0\n",
       "dtype: int64"
      ]
     },
     "execution_count": 4,
     "metadata": {},
     "output_type": "execute_result"
    }
   ],
   "source": [
    "df.isnull().sum()"
   ]
  },
  {
   "cell_type": "code",
   "execution_count": 5,
   "id": "02a8894c-3242-4c25-86d3-caf32883604d",
   "metadata": {},
   "outputs": [
    {
     "data": {
      "text/html": [
       "<div>\n",
       "<style scoped>\n",
       "    .dataframe tbody tr th:only-of-type {\n",
       "        vertical-align: middle;\n",
       "    }\n",
       "\n",
       "    .dataframe tbody tr th {\n",
       "        vertical-align: top;\n",
       "    }\n",
       "\n",
       "    .dataframe thead th {\n",
       "        text-align: right;\n",
       "    }\n",
       "</style>\n",
       "<table border=\"1\" class=\"dataframe\">\n",
       "  <thead>\n",
       "    <tr style=\"text-align: right;\">\n",
       "      <th></th>\n",
       "      <th>name</th>\n",
       "      <th>location</th>\n",
       "      <th>rate</th>\n",
       "      <th>votes</th>\n",
       "      <th>approx_cost(for two people)</th>\n",
       "      <th>cuisines</th>\n",
       "      <th>online_order</th>\n",
       "    </tr>\n",
       "  </thead>\n",
       "  <tbody>\n",
       "    <tr>\n",
       "      <th>0</th>\n",
       "      <td>Meghana Foods</td>\n",
       "      <td>HSR</td>\n",
       "      <td>2.7</td>\n",
       "      <td>1410</td>\n",
       "      <td>800</td>\n",
       "      <td>Fast Food, South Indian</td>\n",
       "      <td>No</td>\n",
       "    </tr>\n",
       "    <tr>\n",
       "      <th>1</th>\n",
       "      <td>Burger King</td>\n",
       "      <td>Koramangala</td>\n",
       "      <td>4.6</td>\n",
       "      <td>1724</td>\n",
       "      <td>700</td>\n",
       "      <td>Biryani, Mexican</td>\n",
       "      <td>Yes</td>\n",
       "    </tr>\n",
       "    <tr>\n",
       "      <th>2</th>\n",
       "      <td>Domino's</td>\n",
       "      <td>HSR</td>\n",
       "      <td>4.6</td>\n",
       "      <td>1070</td>\n",
       "      <td>1000</td>\n",
       "      <td>Italian, American</td>\n",
       "      <td>No</td>\n",
       "    </tr>\n",
       "    <tr>\n",
       "      <th>3</th>\n",
       "      <td>McDonald's</td>\n",
       "      <td>Marathahalli</td>\n",
       "      <td>4.2</td>\n",
       "      <td>1109</td>\n",
       "      <td>1000</td>\n",
       "      <td>North Indian, South Indian</td>\n",
       "      <td>Yes</td>\n",
       "    </tr>\n",
       "    <tr>\n",
       "      <th>4</th>\n",
       "      <td>Truffles</td>\n",
       "      <td>Rajajinagar</td>\n",
       "      <td>4.6</td>\n",
       "      <td>2728</td>\n",
       "      <td>300</td>\n",
       "      <td>American, Cafe</td>\n",
       "      <td>Yes</td>\n",
       "    </tr>\n",
       "    <tr>\n",
       "      <th>...</th>\n",
       "      <td>...</td>\n",
       "      <td>...</td>\n",
       "      <td>...</td>\n",
       "      <td>...</td>\n",
       "      <td>...</td>\n",
       "      <td>...</td>\n",
       "      <td>...</td>\n",
       "    </tr>\n",
       "    <tr>\n",
       "      <th>245</th>\n",
       "      <td>Domino's</td>\n",
       "      <td>Jayanagar</td>\n",
       "      <td>2.9</td>\n",
       "      <td>1934</td>\n",
       "      <td>300</td>\n",
       "      <td>South Indian, Italian</td>\n",
       "      <td>Yes</td>\n",
       "    </tr>\n",
       "    <tr>\n",
       "      <th>246</th>\n",
       "      <td>Burger King</td>\n",
       "      <td>Jayanagar</td>\n",
       "      <td>3.2</td>\n",
       "      <td>4813</td>\n",
       "      <td>600</td>\n",
       "      <td>Biryani, Italian</td>\n",
       "      <td>Yes</td>\n",
       "    </tr>\n",
       "    <tr>\n",
       "      <th>247</th>\n",
       "      <td>Pizza Hut</td>\n",
       "      <td>HSR</td>\n",
       "      <td>3.8</td>\n",
       "      <td>1671</td>\n",
       "      <td>300</td>\n",
       "      <td>South Indian, South Indian</td>\n",
       "      <td>Yes</td>\n",
       "    </tr>\n",
       "    <tr>\n",
       "      <th>248</th>\n",
       "      <td>Domino's</td>\n",
       "      <td>Bellandur</td>\n",
       "      <td>3.4</td>\n",
       "      <td>1650</td>\n",
       "      <td>800</td>\n",
       "      <td>Cafe, South Indian</td>\n",
       "      <td>No</td>\n",
       "    </tr>\n",
       "    <tr>\n",
       "      <th>249</th>\n",
       "      <td>Domino's</td>\n",
       "      <td>BTM</td>\n",
       "      <td>3.9</td>\n",
       "      <td>3540</td>\n",
       "      <td>300</td>\n",
       "      <td>South Indian, South Indian</td>\n",
       "      <td>No</td>\n",
       "    </tr>\n",
       "  </tbody>\n",
       "</table>\n",
       "<p>250 rows × 7 columns</p>\n",
       "</div>"
      ],
      "text/plain": [
       "              name      location  rate  votes  approx_cost(for two people)  \\\n",
       "0    Meghana Foods           HSR   2.7   1410                          800   \n",
       "1      Burger King   Koramangala   4.6   1724                          700   \n",
       "2         Domino's           HSR   4.6   1070                         1000   \n",
       "3       McDonald's  Marathahalli   4.2   1109                         1000   \n",
       "4         Truffles   Rajajinagar   4.6   2728                          300   \n",
       "..             ...           ...   ...    ...                          ...   \n",
       "245       Domino's     Jayanagar   2.9   1934                          300   \n",
       "246    Burger King     Jayanagar   3.2   4813                          600   \n",
       "247      Pizza Hut           HSR   3.8   1671                          300   \n",
       "248       Domino's     Bellandur   3.4   1650                          800   \n",
       "249       Domino's           BTM   3.9   3540                          300   \n",
       "\n",
       "                       cuisines online_order  \n",
       "0       Fast Food, South Indian           No  \n",
       "1              Biryani, Mexican          Yes  \n",
       "2             Italian, American           No  \n",
       "3    North Indian, South Indian          Yes  \n",
       "4                American, Cafe          Yes  \n",
       "..                          ...          ...  \n",
       "245       South Indian, Italian          Yes  \n",
       "246            Biryani, Italian          Yes  \n",
       "247  South Indian, South Indian          Yes  \n",
       "248          Cafe, South Indian           No  \n",
       "249  South Indian, South Indian           No  \n",
       "\n",
       "[250 rows x 7 columns]"
      ]
     },
     "execution_count": 5,
     "metadata": {},
     "output_type": "execute_result"
    }
   ],
   "source": [
    "df.dropna()"
   ]
  },
  {
   "cell_type": "code",
   "execution_count": 6,
   "id": "274b155b-a9c0-48cd-a061-bf18bff74142",
   "metadata": {},
   "outputs": [
    {
     "data": {
      "text/plain": [
       "0"
      ]
     },
     "execution_count": 6,
     "metadata": {},
     "output_type": "execute_result"
    }
   ],
   "source": [
    "df.duplicated().sum()"
   ]
  },
  {
   "cell_type": "code",
   "execution_count": 7,
   "id": "f6461084-55aa-4671-a1f0-48a163b7164b",
   "metadata": {},
   "outputs": [
    {
     "data": {
      "text/html": [
       "<div>\n",
       "<style scoped>\n",
       "    .dataframe tbody tr th:only-of-type {\n",
       "        vertical-align: middle;\n",
       "    }\n",
       "\n",
       "    .dataframe tbody tr th {\n",
       "        vertical-align: top;\n",
       "    }\n",
       "\n",
       "    .dataframe thead th {\n",
       "        text-align: right;\n",
       "    }\n",
       "</style>\n",
       "<table border=\"1\" class=\"dataframe\">\n",
       "  <thead>\n",
       "    <tr style=\"text-align: right;\">\n",
       "      <th></th>\n",
       "      <th>rate</th>\n",
       "      <th>votes</th>\n",
       "      <th>approx_cost(for two people)</th>\n",
       "    </tr>\n",
       "  </thead>\n",
       "  <tbody>\n",
       "    <tr>\n",
       "      <th>count</th>\n",
       "      <td>250.000000</td>\n",
       "      <td>250.000000</td>\n",
       "      <td>250.000000</td>\n",
       "    </tr>\n",
       "    <tr>\n",
       "      <th>mean</th>\n",
       "      <td>3.720400</td>\n",
       "      <td>2386.792000</td>\n",
       "      <td>573.600000</td>\n",
       "    </tr>\n",
       "    <tr>\n",
       "      <th>std</th>\n",
       "      <td>0.742799</td>\n",
       "      <td>1456.627225</td>\n",
       "      <td>256.527318</td>\n",
       "    </tr>\n",
       "    <tr>\n",
       "      <th>min</th>\n",
       "      <td>2.500000</td>\n",
       "      <td>12.000000</td>\n",
       "      <td>200.000000</td>\n",
       "    </tr>\n",
       "    <tr>\n",
       "      <th>25%</th>\n",
       "      <td>3.100000</td>\n",
       "      <td>1071.000000</td>\n",
       "      <td>300.000000</td>\n",
       "    </tr>\n",
       "    <tr>\n",
       "      <th>50%</th>\n",
       "      <td>3.700000</td>\n",
       "      <td>2331.000000</td>\n",
       "      <td>600.000000</td>\n",
       "    </tr>\n",
       "    <tr>\n",
       "      <th>75%</th>\n",
       "      <td>4.400000</td>\n",
       "      <td>3584.250000</td>\n",
       "      <td>800.000000</td>\n",
       "    </tr>\n",
       "    <tr>\n",
       "      <th>max</th>\n",
       "      <td>5.000000</td>\n",
       "      <td>4999.000000</td>\n",
       "      <td>1000.000000</td>\n",
       "    </tr>\n",
       "  </tbody>\n",
       "</table>\n",
       "</div>"
      ],
      "text/plain": [
       "             rate        votes  approx_cost(for two people)\n",
       "count  250.000000   250.000000                   250.000000\n",
       "mean     3.720400  2386.792000                   573.600000\n",
       "std      0.742799  1456.627225                   256.527318\n",
       "min      2.500000    12.000000                   200.000000\n",
       "25%      3.100000  1071.000000                   300.000000\n",
       "50%      3.700000  2331.000000                   600.000000\n",
       "75%      4.400000  3584.250000                   800.000000\n",
       "max      5.000000  4999.000000                  1000.000000"
      ]
     },
     "execution_count": 7,
     "metadata": {},
     "output_type": "execute_result"
    }
   ],
   "source": [
    "df.describe()"
   ]
  },
  {
   "cell_type": "code",
   "execution_count": 8,
   "id": "26e039a2-7872-484a-a968-22c3eab3d138",
   "metadata": {},
   "outputs": [
    {
     "data": {
      "text/plain": [
       "name                            object\n",
       "location                        object\n",
       "rate                           float64\n",
       "votes                            int64\n",
       "approx_cost(for two people)      int64\n",
       "cuisines                        object\n",
       "online_order                    object\n",
       "dtype: object"
      ]
     },
     "execution_count": 8,
     "metadata": {},
     "output_type": "execute_result"
    }
   ],
   "source": [
    "df.dtypes"
   ]
  },
  {
   "cell_type": "code",
   "execution_count": 9,
   "id": "8f7a1d9c-9328-4f69-ae4b-c8c8c737246d",
   "metadata": {},
   "outputs": [
    {
     "data": {
      "text/plain": [
       "Index(['name', 'location', 'rate', 'votes', 'approx_cost(for two people)',\n",
       "       'cuisines', 'online_order'],\n",
       "      dtype='object')"
      ]
     },
     "execution_count": 9,
     "metadata": {},
     "output_type": "execute_result"
    }
   ],
   "source": [
    "df.columns"
   ]
  },
  {
   "cell_type": "code",
   "execution_count": 10,
   "id": "560960d2-613c-4841-b7a3-5a7639092adc",
   "metadata": {},
   "outputs": [],
   "source": [
    "df.rename(columns={\"approx_cost(for two people)\":\"approx_cost\"},inplace=True)"
   ]
  },
  {
   "cell_type": "code",
   "execution_count": 11,
   "id": "89652a8c-3364-4d65-96e5-4138596a7d9e",
   "metadata": {},
   "outputs": [
    {
     "data": {
      "text/plain": [
       "Index(['name', 'location', 'rate', 'votes', 'approx_cost', 'cuisines',\n",
       "       'online_order'],\n",
       "      dtype='object')"
      ]
     },
     "execution_count": 11,
     "metadata": {},
     "output_type": "execute_result"
    }
   ],
   "source": [
    "df.columns"
   ]
  },
  {
   "cell_type": "code",
   "execution_count": 12,
   "id": "d59f3894-39cb-47b9-8e5f-347dd57ab635",
   "metadata": {},
   "outputs": [
    {
     "data": {
      "text/plain": [
       "'📊 General Analysis\\nWhat are the top 10 locations with the highest number of restaurants?\\n\\nWhich cuisines are most commonly served across restaurants?\\n\\nWhat is the average rating of restaurants in each location?\\n\\nWhich restaurants have the highest number of votes?\\n\\nWhat is the most common cost for two people?'"
      ]
     },
     "execution_count": 12,
     "metadata": {},
     "output_type": "execute_result"
    }
   ],
   "source": [
    "\"\"\"📊 General Analysis\n",
    "What are the top 10 locations with the highest number of restaurants?\n",
    "\n",
    "Which cuisines are most commonly served across restaurants?\n",
    "\n",
    "What is the average rating of restaurants in each location?\n",
    "\n",
    "Which restaurants have the highest number of votes?\n",
    "\n",
    "What is the most common cost for two people?\"\"\""
   ]
  },
  {
   "cell_type": "code",
   "execution_count": 15,
   "id": "c25192ab-1c3d-4216-b561-fccaf2957479",
   "metadata": {},
   "outputs": [
    {
     "data": {
      "text/plain": [
       "Index(['name', 'location', 'rate', 'votes', 'approx_cost', 'cuisines',\n",
       "       'online_order'],\n",
       "      dtype='object')"
      ]
     },
     "execution_count": 15,
     "metadata": {},
     "output_type": "execute_result"
    }
   ],
   "source": [
    "df.columns"
   ]
  },
  {
   "cell_type": "code",
   "execution_count": 13,
   "id": "7a47ccfa-12c0-4fea-9517-33fa8f386309",
   "metadata": {},
   "outputs": [
    {
     "data": {
      "text/plain": [
       "location\n",
       "Koramangala     31\n",
       "Indiranagar     30\n",
       "Jayanagar       30\n",
       "MG Road         29\n",
       "HSR             27\n",
       "Bellandur       23\n",
       "Marathahalli    23\n",
       "BTM             21\n",
       "Rajajinagar     20\n",
       "Whitefield      16\n",
       "Name: name, dtype: int64"
      ]
     },
     "execution_count": 13,
     "metadata": {},
     "output_type": "execute_result"
    }
   ],
   "source": [
    "#What are the top 10 locations with the highest number of restaurants?\n",
    "df.groupby(\"location\")[\"name\"].count().sort_values(ascending=False)"
   ]
  },
  {
   "cell_type": "code",
   "execution_count": 16,
   "id": "0eb8584b-db46-4832-9ccf-de547a4da16c",
   "metadata": {},
   "outputs": [
    {
     "data": {
      "text/plain": [
       "cuisines\n",
       "Desserts, Biryani        6\n",
       "North Indian, Chinese    6\n",
       "Italian, Desserts        5\n",
       "Cafe, South Indian       5\n",
       "Chinese, Desserts        5\n",
       "                        ..\n",
       "Fast Food, Fast Food     1\n",
       "Biryani, North Indian    1\n",
       "Desserts, American       1\n",
       "Mexican, South Indian    1\n",
       "Biryani, American        1\n",
       "Name: count, Length: 96, dtype: int64"
      ]
     },
     "execution_count": 16,
     "metadata": {},
     "output_type": "execute_result"
    }
   ],
   "source": [
    "#Which cuisines are most commonly served across restaurants?\n",
    "df[\"cuisines\"].value_counts()"
   ]
  },
  {
   "cell_type": "code",
   "execution_count": 17,
   "id": "cff042ab-c66b-42ad-a466-482d39981117",
   "metadata": {},
   "outputs": [
    {
     "data": {
      "text/plain": [
       "location\n",
       "BTM             3.542857\n",
       "Bellandur       3.695652\n",
       "HSR             3.948148\n",
       "Indiranagar     3.683333\n",
       "Jayanagar       3.700000\n",
       "Koramangala     3.696774\n",
       "MG Road         3.696552\n",
       "Marathahalli    3.778261\n",
       "Rajajinagar     3.720000\n",
       "Whitefield      3.718750\n",
       "Name: rate, dtype: float64"
      ]
     },
     "execution_count": 17,
     "metadata": {},
     "output_type": "execute_result"
    }
   ],
   "source": [
    "#What is the average rating of restaurants in each location?\n",
    "df.groupby(\"location\")[\"rate\"].mean()"
   ]
  },
  {
   "cell_type": "code",
   "execution_count": 19,
   "id": "53863131-201e-4bcf-8cba-b75a8bc27abd",
   "metadata": {},
   "outputs": [
    {
     "data": {
      "text/plain": [
       "name\n",
       "Truffles         72161\n",
       "Meghana Foods    71802\n",
       "Pizza Hut        67572\n",
       "Empire           64376\n",
       "Burger King      63581\n",
       "Domino's         60989\n",
       "Subway           57742\n",
       "Taco Bell        52254\n",
       "McDonald's       44460\n",
       "KFC              41761\n",
       "Name: votes, dtype: int64"
      ]
     },
     "execution_count": 19,
     "metadata": {},
     "output_type": "execute_result"
    }
   ],
   "source": [
    "#Which restaurants have the highest number of votes?\n",
    "df.groupby(\"name\")[\"votes\"].sum().sort_values(ascending=False)"
   ]
  },
  {
   "cell_type": "code",
   "execution_count": 24,
   "id": "9f2a8b37-1879-4a3e-9889-0ec9df6f3d3c",
   "metadata": {},
   "outputs": [
    {
     "data": {
      "text/plain": [
       "approx_cost\n",
       "800     39\n",
       "300     37\n",
       "1000    35\n",
       "400     31\n",
       "600     30\n",
       "200     27\n",
       "500     27\n",
       "700     24\n",
       "Name: count, dtype: int64"
      ]
     },
     "execution_count": 24,
     "metadata": {},
     "output_type": "execute_result"
    }
   ],
   "source": [
    "#What is the most common cost for two people?\"\"\"\n",
    "f_1=df[\"approx_cost\"].value_counts()\n",
    "f_1"
   ]
  },
  {
   "cell_type": "code",
   "execution_count": null,
   "id": "f0abf8b8-577b-453a-b653-6d912c7fda5c",
   "metadata": {},
   "outputs": [],
   "source": [
    "\"\"\"📈 Ratings Analysis\n",
    "What is the distribution of restaurant ratings?\n",
    "\n",
    "Is there a relationship between rating and number of votes?\n",
    "\n",
    "Do restaurants with online ordering tend to have higher ratings?\n",
    "\n",
    "How do ratings differ across locations?\n",
    "\"\"\""
   ]
  },
  {
   "cell_type": "code",
   "execution_count": 25,
   "id": "c8655d71-fbbe-4f29-be11-ee1396701b89",
   "metadata": {},
   "outputs": [
    {
     "data": {
      "text/html": [
       "<div>\n",
       "<style scoped>\n",
       "    .dataframe tbody tr th:only-of-type {\n",
       "        vertical-align: middle;\n",
       "    }\n",
       "\n",
       "    .dataframe tbody tr th {\n",
       "        vertical-align: top;\n",
       "    }\n",
       "\n",
       "    .dataframe thead th {\n",
       "        text-align: right;\n",
       "    }\n",
       "</style>\n",
       "<table border=\"1\" class=\"dataframe\">\n",
       "  <thead>\n",
       "    <tr style=\"text-align: right;\">\n",
       "      <th></th>\n",
       "      <th>name</th>\n",
       "      <th>location</th>\n",
       "      <th>rate</th>\n",
       "      <th>votes</th>\n",
       "      <th>approx_cost</th>\n",
       "      <th>cuisines</th>\n",
       "      <th>online_order</th>\n",
       "    </tr>\n",
       "  </thead>\n",
       "  <tbody>\n",
       "    <tr>\n",
       "      <th>0</th>\n",
       "      <td>Meghana Foods</td>\n",
       "      <td>HSR</td>\n",
       "      <td>2.7</td>\n",
       "      <td>1410</td>\n",
       "      <td>800</td>\n",
       "      <td>Fast Food, South Indian</td>\n",
       "      <td>No</td>\n",
       "    </tr>\n",
       "    <tr>\n",
       "      <th>1</th>\n",
       "      <td>Burger King</td>\n",
       "      <td>Koramangala</td>\n",
       "      <td>4.6</td>\n",
       "      <td>1724</td>\n",
       "      <td>700</td>\n",
       "      <td>Biryani, Mexican</td>\n",
       "      <td>Yes</td>\n",
       "    </tr>\n",
       "    <tr>\n",
       "      <th>2</th>\n",
       "      <td>Domino's</td>\n",
       "      <td>HSR</td>\n",
       "      <td>4.6</td>\n",
       "      <td>1070</td>\n",
       "      <td>1000</td>\n",
       "      <td>Italian, American</td>\n",
       "      <td>No</td>\n",
       "    </tr>\n",
       "    <tr>\n",
       "      <th>3</th>\n",
       "      <td>McDonald's</td>\n",
       "      <td>Marathahalli</td>\n",
       "      <td>4.2</td>\n",
       "      <td>1109</td>\n",
       "      <td>1000</td>\n",
       "      <td>North Indian, South Indian</td>\n",
       "      <td>Yes</td>\n",
       "    </tr>\n",
       "    <tr>\n",
       "      <th>4</th>\n",
       "      <td>Truffles</td>\n",
       "      <td>Rajajinagar</td>\n",
       "      <td>4.6</td>\n",
       "      <td>2728</td>\n",
       "      <td>300</td>\n",
       "      <td>American, Cafe</td>\n",
       "      <td>Yes</td>\n",
       "    </tr>\n",
       "  </tbody>\n",
       "</table>\n",
       "</div>"
      ],
      "text/plain": [
       "            name      location  rate  votes  approx_cost  \\\n",
       "0  Meghana Foods           HSR   2.7   1410          800   \n",
       "1    Burger King   Koramangala   4.6   1724          700   \n",
       "2       Domino's           HSR   4.6   1070         1000   \n",
       "3     McDonald's  Marathahalli   4.2   1109         1000   \n",
       "4       Truffles   Rajajinagar   4.6   2728          300   \n",
       "\n",
       "                     cuisines online_order  \n",
       "0     Fast Food, South Indian           No  \n",
       "1            Biryani, Mexican          Yes  \n",
       "2           Italian, American           No  \n",
       "3  North Indian, South Indian          Yes  \n",
       "4              American, Cafe          Yes  "
      ]
     },
     "execution_count": 25,
     "metadata": {},
     "output_type": "execute_result"
    }
   ],
   "source": [
    "df.head()"
   ]
  },
  {
   "cell_type": "code",
   "execution_count": 26,
   "id": "8f51f979-e1d8-4e3e-b086-ba3e441e7df0",
   "metadata": {},
   "outputs": [
    {
     "data": {
      "text/plain": [
       "Index(['name', 'location', 'rate', 'votes', 'approx_cost', 'cuisines',\n",
       "       'online_order'],\n",
       "      dtype='object')"
      ]
     },
     "execution_count": 26,
     "metadata": {},
     "output_type": "execute_result"
    }
   ],
   "source": [
    "df.columns"
   ]
  },
  {
   "cell_type": "code",
   "execution_count": 30,
   "id": "3b22c039-734c-463c-b99d-00585191c1b0",
   "metadata": {},
   "outputs": [
    {
     "data": {
      "text/plain": [
       "Text(0.5, 1.0, 'distribution of restaurant ratings')"
      ]
     },
     "execution_count": 30,
     "metadata": {},
     "output_type": "execute_result"
    },
    {
     "data": {
      "image/png": "[encoded data removed]",
      "text/plain": [
       "<Figure size 640x480 with 1 Axes>"
      ]
     },
     "metadata": {},
     "output_type": "display_data"
    }
   ],
   "source": [
    "#What is the distribution of restaurant ratings?\n",
    "df.groupby(\"name\")[\"rate\"].sum().plot(kind=\"bar\")\n",
    "plt.title(\"distribution of restaurant ratings\",fontsize=20)"
   ]
  },
  {
   "cell_type": "code",
   "execution_count": 32,
   "id": "e6eb9168-1282-41e9-bce9-1b28169e735c",
   "metadata": {},
   "outputs": [
    {
     "data": {
      "image/png": "[encoded data removed]",
      "text/plain": [
       "<Figure size 640x480 with 1 Axes>"
      ]
     },
     "metadata": {},
     "output_type": "display_data"
    }
   ],
   "source": [
    "#Is there a relationship between rating and number of votes?\n",
    "plt.scatter(df[\"rate\"],df[\"votes\"])\n",
    "plt.title(\"relationship between rating and number of votes\")\n",
    "plt.show()"
   ]
  },
  {
   "cell_type": "code",
   "execution_count": 39,
   "id": "44e5d0a1-e20f-4a50-a601-a9b6223b17ad",
   "metadata": {},
   "outputs": [
    {
     "data": {
      "text/plain": [
       "name\n",
       "Burger King      42.3\n",
       "Domino's         55.4\n",
       "Empire           32.0\n",
       "KFC              39.6\n",
       "McDonald's       32.0\n",
       "Meghana Foods    48.0\n",
       "Pizza Hut        63.7\n",
       "Subway           50.5\n",
       "Taco Bell        29.3\n",
       "Truffles         65.7\n",
       "Name: rate, dtype: float64"
      ]
     },
     "execution_count": 39,
     "metadata": {},
     "output_type": "execute_result"
    }
   ],
   "source": [
    "#Do restaurants with online ordering tend to have higher ratings?\n",
    "df[df[\"online_order\"]==\"Yes\"].groupby(\"name\")[\"rate\"].sum()"
   ]
  },
  {
   "cell_type": "code",
   "execution_count": 37,
   "id": "4c38ac1b-e14c-4381-9f92-c0f58cb0c8fe",
   "metadata": {},
   "outputs": [
    {
     "data": {
      "text/plain": [
       "online_order\n",
       "No     3.684375\n",
       "Yes    3.758197\n",
       "Name: rate, dtype: float64"
      ]
     },
     "execution_count": 37,
     "metadata": {},
     "output_type": "execute_result"
    }
   ],
   "source": [
    "avg_df=df.groupby(\"online_order\")[\"rate\"].mean()\n",
    "avg_df"
   ]
  },
  {
   "cell_type": "code",
   "execution_count": 38,
   "id": "dfc47c6a-beaf-441d-b4cd-430cf88d3ee3",
   "metadata": {},
   "outputs": [
    {
     "data": {
      "text/plain": [
       "<Axes: xlabel='online_order'>"
      ]
     },
     "execution_count": 38,
     "metadata": {},
     "output_type": "execute_result"
    },
    {
     "data": {
      "image/png": "[encoded data removed]",
      "text/plain": [
       "<Figure size 640x480 with 1 Axes>"
      ]
     },
     "metadata": {},
     "output_type": "display_data"
    }
   ],
   "source": [
    "avg_df.plot(kind=\"bar\",color=[\"red\",\"green\"])"
   ]
  },
  {
   "cell_type": "code",
   "execution_count": 45,
   "id": "87510388-c0a6-4b41-9268-0d1f48526fa0",
   "metadata": {},
   "outputs": [],
   "source": [
    "#How do ratings differ across locations?\n",
    "fil_2=df.groupby(\"location\")[\"rate\"].mean().reset_index()"
   ]
  },
  {
   "cell_type": "code",
   "execution_count": 46,
   "id": "b675742a-2313-4102-b4ac-e9370a7f10d8",
   "metadata": {},
   "outputs": [
    {
     "data": {
      "text/html": [
       "<div>\n",
       "<style scoped>\n",
       "    .dataframe tbody tr th:only-of-type {\n",
       "        vertical-align: middle;\n",
       "    }\n",
       "\n",
       "    .dataframe tbody tr th {\n",
       "        vertical-align: top;\n",
       "    }\n",
       "\n",
       "    .dataframe thead th {\n",
       "        text-align: right;\n",
       "    }\n",
       "</style>\n",
       "<table border=\"1\" class=\"dataframe\">\n",
       "  <thead>\n",
       "    <tr style=\"text-align: right;\">\n",
       "      <th></th>\n",
       "      <th>location</th>\n",
       "      <th>rate</th>\n",
       "    </tr>\n",
       "  </thead>\n",
       "  <tbody>\n",
       "    <tr>\n",
       "      <th>0</th>\n",
       "      <td>BTM</td>\n",
       "      <td>3.542857</td>\n",
       "    </tr>\n",
       "    <tr>\n",
       "      <th>1</th>\n",
       "      <td>Bellandur</td>\n",
       "      <td>3.695652</td>\n",
       "    </tr>\n",
       "    <tr>\n",
       "      <th>2</th>\n",
       "      <td>HSR</td>\n",
       "      <td>3.948148</td>\n",
       "    </tr>\n",
       "    <tr>\n",
       "      <th>3</th>\n",
       "      <td>Indiranagar</td>\n",
       "      <td>3.683333</td>\n",
       "    </tr>\n",
       "    <tr>\n",
       "      <th>4</th>\n",
       "      <td>Jayanagar</td>\n",
       "      <td>3.700000</td>\n",
       "    </tr>\n",
       "    <tr>\n",
       "      <th>5</th>\n",
       "      <td>Koramangala</td>\n",
       "      <td>3.696774</td>\n",
       "    </tr>\n",
       "    <tr>\n",
       "      <th>6</th>\n",
       "      <td>MG Road</td>\n",
       "      <td>3.696552</td>\n",
       "    </tr>\n",
       "    <tr>\n",
       "      <th>7</th>\n",
       "      <td>Marathahalli</td>\n",
       "      <td>3.778261</td>\n",
       "    </tr>\n",
       "    <tr>\n",
       "      <th>8</th>\n",
       "      <td>Rajajinagar</td>\n",
       "      <td>3.720000</td>\n",
       "    </tr>\n",
       "    <tr>\n",
       "      <th>9</th>\n",
       "      <td>Whitefield</td>\n",
       "      <td>3.718750</td>\n",
       "    </tr>\n",
       "  </tbody>\n",
       "</table>\n",
       "</div>"
      ],
      "text/plain": [
       "       location      rate\n",
       "0           BTM  3.542857\n",
       "1     Bellandur  3.695652\n",
       "2           HSR  3.948148\n",
       "3   Indiranagar  3.683333\n",
       "4     Jayanagar  3.700000\n",
       "5   Koramangala  3.696774\n",
       "6       MG Road  3.696552\n",
       "7  Marathahalli  3.778261\n",
       "8   Rajajinagar  3.720000\n",
       "9    Whitefield  3.718750"
      ]
     },
     "execution_count": 46,
     "metadata": {},
     "output_type": "execute_result"
    }
   ],
   "source": [
    "fil_2"
   ]
  },
  {
   "cell_type": "code",
   "execution_count": 49,
   "id": "68152151-be52-414a-aae1-b6df30e76b9e",
   "metadata": {},
   "outputs": [
    {
     "data": {
      "text/plain": [
       "<Axes: xlabel='location'>"
      ]
     },
     "execution_count": 49,
     "metadata": {},
     "output_type": "execute_result"
    },
    {
     "data": {
      "image/png": "[encoded data removed]",
      "text/plain": [
       "<Figure size 1000x700 with 1 Axes>"
      ]
     },
     "metadata": {},
     "output_type": "display_data"
    }
   ],
   "source": [
    "fil_2.plot(x=\"location\",y=\"rate\",figsize=(10,7),color=\"orange\")"
   ]
  },
  {
   "cell_type": "code",
   "execution_count": null,
   "id": "04698d99-7eda-4383-9e5c-fc6292e8d75c",
   "metadata": {},
   "outputs": [],
   "source": [
    "\"\"\"💰 Cost Analysis\n",
    "Which locations have the highest average cost for two?\n",
    "\n",
    "Is there a correlation between cost and rating?\n",
    "\n",
    "How does average cost differ for restaurants that offer online ordering?\n",
    "\"\"\""
   ]
  },
  {
   "cell_type": "code",
   "execution_count": 50,
   "id": "e126b9cd-08e4-422e-a8ab-d9d1c653428e",
   "metadata": {},
   "outputs": [
    {
     "data": {
      "text/plain": [
       "Index(['name', 'location', 'rate', 'votes', 'approx_cost', 'cuisines',\n",
       "       'online_order'],\n",
       "      dtype='object')"
      ]
     },
     "execution_count": 50,
     "metadata": {},
     "output_type": "execute_result"
    }
   ],
   "source": [
    "df.columns"
   ]
  },
  {
   "cell_type": "code",
   "execution_count": 53,
   "id": "82c68cde-a738-46ea-a04c-f06fe77ed41c",
   "metadata": {},
   "outputs": [
    {
     "data": {
      "text/html": [
       "<div>\n",
       "<style scoped>\n",
       "    .dataframe tbody tr th:only-of-type {\n",
       "        vertical-align: middle;\n",
       "    }\n",
       "\n",
       "    .dataframe tbody tr th {\n",
       "        vertical-align: top;\n",
       "    }\n",
       "\n",
       "    .dataframe thead th {\n",
       "        text-align: right;\n",
       "    }\n",
       "</style>\n",
       "<table border=\"1\" class=\"dataframe\">\n",
       "  <thead>\n",
       "    <tr style=\"text-align: right;\">\n",
       "      <th></th>\n",
       "      <th>location</th>\n",
       "      <th>approx_cost</th>\n",
       "    </tr>\n",
       "  </thead>\n",
       "  <tbody>\n",
       "    <tr>\n",
       "      <th>0</th>\n",
       "      <td>Marathahalli</td>\n",
       "      <td>665.217391</td>\n",
       "    </tr>\n",
       "    <tr>\n",
       "      <th>1</th>\n",
       "      <td>MG Road</td>\n",
       "      <td>637.931034</td>\n",
       "    </tr>\n",
       "  </tbody>\n",
       "</table>\n",
       "</div>"
      ],
      "text/plain": [
       "       location  approx_cost\n",
       "0  Marathahalli   665.217391\n",
       "1       MG Road   637.931034"
      ]
     },
     "execution_count": 53,
     "metadata": {},
     "output_type": "execute_result"
    }
   ],
   "source": [
    "#Which locations have the highest average cost for two?\n",
    "df.groupby(\"location\")[\"approx_cost\"].mean().sort_values(ascending=False).head(2).reset_index()"
   ]
  },
  {
   "cell_type": "code",
   "execution_count": 57,
   "id": "85b076d9-61a3-4fbf-b385-c63931ad3e48",
   "metadata": {},
   "outputs": [
    {
     "data": {
      "text/plain": [
       "0.023281786065641345"
      ]
     },
     "execution_count": 57,
     "metadata": {},
     "output_type": "execute_result"
    }
   ],
   "source": [
    "#Is there a correlation between cost and rating?\n",
    "corr_df=df[\"rate\"].corr(df[\"approx_cost\"])\n",
    "corr_df"
   ]
  },
  {
   "cell_type": "code",
   "execution_count": 65,
   "id": "13cdb9ec-a6ac-419c-9dca-20b583644b5e",
   "metadata": {},
   "outputs": [
    {
     "data": {
      "text/plain": [
       "<Axes: ylabel='approx_cost'>"
      ]
     },
     "execution_count": 65,
     "metadata": {},
     "output_type": "execute_result"
    },
    {
     "data": {
      "image/png": "[encoded data removed]",
      "text/plain": [
       "<Figure size 640x480 with 1 Axes>"
      ]
     },
     "metadata": {},
     "output_type": "display_data"
    }
   ],
   "source": [
    "#How does average cost differ for restaurants that offer online ordering?\n",
    "fil_3=df.groupby(\"online_order\")[\"approx_cost\"].mean().reset_index()\n",
    "fil_3.set_index(\"online_order\")[\"approx_cost\"].plot(kind=\"pie\",color=[\"red\",\"green\"],autopct=\"%1.1f%%\")"
   ]
  },
  {
   "cell_type": "code",
   "execution_count": 66,
   "id": "c54eefa3-ac00-46e9-832d-9ee1f0084381",
   "metadata": {},
   "outputs": [
    {
     "data": {
      "text/plain": [
       "'📍 Location & Cuisine-Based\\nWhich cuisine is the most popular in Koramangala?\\n\\nWhich location has the most restaurants serving North Indian cuisine?\\n\\nWhat are the top-rated cuisines on average?\\n'"
      ]
     },
     "execution_count": 66,
     "metadata": {},
     "output_type": "execute_result"
    }
   ],
   "source": [
    "\"\"\"📍 Location & Cuisine-Based\n",
    "Which cuisine is the most popular in Koramangala?\n",
    "\n",
    "Which location has the most restaurants serving North Indian cuisine?\n",
    "\n",
    "What are the top-rated cuisines on average?\n",
    "\"\"\""
   ]
  },
  {
   "cell_type": "code",
   "execution_count": 67,
   "id": "2454f530-22fd-47d3-acd7-30930f21a9d4",
   "metadata": {},
   "outputs": [
    {
     "data": {
      "text/html": [
       "<div>\n",
       "<style scoped>\n",
       "    .dataframe tbody tr th:only-of-type {\n",
       "        vertical-align: middle;\n",
       "    }\n",
       "\n",
       "    .dataframe tbody tr th {\n",
       "        vertical-align: top;\n",
       "    }\n",
       "\n",
       "    .dataframe thead th {\n",
       "        text-align: right;\n",
       "    }\n",
       "</style>\n",
       "<table border=\"1\" class=\"dataframe\">\n",
       "  <thead>\n",
       "    <tr style=\"text-align: right;\">\n",
       "      <th></th>\n",
       "      <th>name</th>\n",
       "      <th>location</th>\n",
       "      <th>rate</th>\n",
       "      <th>votes</th>\n",
       "      <th>approx_cost</th>\n",
       "      <th>cuisines</th>\n",
       "      <th>online_order</th>\n",
       "    </tr>\n",
       "  </thead>\n",
       "  <tbody>\n",
       "    <tr>\n",
       "      <th>0</th>\n",
       "      <td>Meghana Foods</td>\n",
       "      <td>HSR</td>\n",
       "      <td>2.7</td>\n",
       "      <td>1410</td>\n",
       "      <td>800</td>\n",
       "      <td>Fast Food, South Indian</td>\n",
       "      <td>No</td>\n",
       "    </tr>\n",
       "    <tr>\n",
       "      <th>1</th>\n",
       "      <td>Burger King</td>\n",
       "      <td>Koramangala</td>\n",
       "      <td>4.6</td>\n",
       "      <td>1724</td>\n",
       "      <td>700</td>\n",
       "      <td>Biryani, Mexican</td>\n",
       "      <td>Yes</td>\n",
       "    </tr>\n",
       "    <tr>\n",
       "      <th>2</th>\n",
       "      <td>Domino's</td>\n",
       "      <td>HSR</td>\n",
       "      <td>4.6</td>\n",
       "      <td>1070</td>\n",
       "      <td>1000</td>\n",
       "      <td>Italian, American</td>\n",
       "      <td>No</td>\n",
       "    </tr>\n",
       "    <tr>\n",
       "      <th>3</th>\n",
       "      <td>McDonald's</td>\n",
       "      <td>Marathahalli</td>\n",
       "      <td>4.2</td>\n",
       "      <td>1109</td>\n",
       "      <td>1000</td>\n",
       "      <td>North Indian, South Indian</td>\n",
       "      <td>Yes</td>\n",
       "    </tr>\n",
       "    <tr>\n",
       "      <th>4</th>\n",
       "      <td>Truffles</td>\n",
       "      <td>Rajajinagar</td>\n",
       "      <td>4.6</td>\n",
       "      <td>2728</td>\n",
       "      <td>300</td>\n",
       "      <td>American, Cafe</td>\n",
       "      <td>Yes</td>\n",
       "    </tr>\n",
       "  </tbody>\n",
       "</table>\n",
       "</div>"
      ],
      "text/plain": [
       "            name      location  rate  votes  approx_cost  \\\n",
       "0  Meghana Foods           HSR   2.7   1410          800   \n",
       "1    Burger King   Koramangala   4.6   1724          700   \n",
       "2       Domino's           HSR   4.6   1070         1000   \n",
       "3     McDonald's  Marathahalli   4.2   1109         1000   \n",
       "4       Truffles   Rajajinagar   4.6   2728          300   \n",
       "\n",
       "                     cuisines online_order  \n",
       "0     Fast Food, South Indian           No  \n",
       "1            Biryani, Mexican          Yes  \n",
       "2           Italian, American           No  \n",
       "3  North Indian, South Indian          Yes  \n",
       "4              American, Cafe          Yes  "
      ]
     },
     "execution_count": 67,
     "metadata": {},
     "output_type": "execute_result"
    }
   ],
   "source": [
    "df.head()"
   ]
  },
  {
   "cell_type": "code",
   "execution_count": 68,
   "id": "0cddb743-f58c-4e05-855c-a64740d2b875",
   "metadata": {},
   "outputs": [
    {
     "data": {
      "text/plain": [
       "Index(['name', 'location', 'rate', 'votes', 'approx_cost', 'cuisines',\n",
       "       'online_order'],\n",
       "      dtype='object')"
      ]
     },
     "execution_count": 68,
     "metadata": {},
     "output_type": "execute_result"
    }
   ],
   "source": [
    "df.columns"
   ]
  },
  {
   "cell_type": "code",
   "execution_count": 78,
   "id": "813c7cc9-250c-4057-92cf-901e54c147c4",
   "metadata": {},
   "outputs": [
    {
     "data": {
      "text/plain": [
       "cuisines\n",
       "Biryani, Mexican              2\n",
       "Fast Food, American           2\n",
       "Desserts, Mexican             2\n",
       "American, South Indian        2\n",
       "Italian, North Indian         2\n",
       "Desserts, Biryani             2\n",
       "Chinese, American             1\n",
       "Cafe, American                1\n",
       "Biryani, Chinese              1\n",
       "Fast Food, North Indian       1\n",
       "Biryani, Desserts             1\n",
       "Desserts, North Indian        1\n",
       "American, Desserts            1\n",
       "American, Fast Food           1\n",
       "Fast Food, Mexican            1\n",
       "South Indian, North Indian    1\n",
       "Mexican, American             1\n",
       "Mexican, Fast Food            1\n",
       "Italian, Cafe                 1\n",
       "Biryani, Biryani              1\n",
       "American, North Indian        1\n",
       "Desserts, Cafe                1\n",
       "Cafe, Cafe                    1\n",
       "Mexican, Chinese              1\n",
       "North Indian, Mexican         1\n",
       "Name: count, dtype: int64"
      ]
     },
     "execution_count": 78,
     "metadata": {},
     "output_type": "execute_result"
    }
   ],
   "source": [
    "#Which cuisine is the most popular in Koramangala?\n",
    "new_df=df[df[\"location\"]==\"Koramangala\"]\n",
    "new_df[\"cuisines\"].value_counts()"
   ]
  },
  {
   "cell_type": "code",
   "execution_count": 89,
   "id": "e8991ff1-f480-4b95-8ae7-2b9ffed1f403",
   "metadata": {},
   "outputs": [
    {
     "data": {
      "text/plain": [
       "location\n",
       "Marathahalli    8\n",
       "Koramangala     7\n",
       "HSR             5\n",
       "Jayanagar       5\n",
       "MG Road         5\n",
       "BTM             4\n",
       "Rajajinagar     4\n",
       "Indiranagar     4\n",
       "Whitefield      3\n",
       "Bellandur       2\n",
       "Name: count, dtype: int64"
      ]
     },
     "execution_count": 89,
     "metadata": {},
     "output_type": "execute_result"
    }
   ],
   "source": [
    "#Which location has the most restaurants serving North Indian cuisine?\n",
    "fil_4=df[df[\"cuisines\"].str.contains(\"North Indian\",na=False)]\n",
    "fil_4[\"location\"].value_counts()"
   ]
  },
  {
   "cell_type": "code",
   "execution_count": 90,
   "id": "1727841b-cb24-46e6-bd58-0da693e1fffc",
   "metadata": {},
   "outputs": [
    {
     "data": {
      "text/plain": [
       "cuisines\n",
       "Desserts, Biryani        6\n",
       "North Indian, Chinese    6\n",
       "Italian, Desserts        5\n",
       "Cafe, South Indian       5\n",
       "Chinese, Desserts        5\n",
       "                        ..\n",
       "Fast Food, Fast Food     1\n",
       "Biryani, North Indian    1\n",
       "Desserts, American       1\n",
       "Mexican, South Indian    1\n",
       "Biryani, American        1\n",
       "Name: count, Length: 96, dtype: int64"
      ]
     },
     "execution_count": 90,
     "metadata": {},
     "output_type": "execute_result"
    }
   ],
   "source": [
    "#What are the top-rated cuisines on average?\n",
    "df[\"cuisines\"].value_counts()"
   ]
  },
  {
   "cell_type": "code",
   "execution_count": 92,
   "id": "97d71c86-17b7-4b17-8ff9-62e70685723c",
   "metadata": {},
   "outputs": [
    {
     "data": {
      "text/plain": [
       "cuisines\n",
       "American, Desserts         4.85\n",
       "Italian, Fast Food         4.80\n",
       "Chinese, Cafe              4.80\n",
       "South Indian, American     4.70\n",
       "Mexican, North Indian      4.70\n",
       "                           ... \n",
       "Italian, Chinese           3.00\n",
       "Fast Food, South Indian    3.00\n",
       "Chinese, Fast Food         2.85\n",
       "Cafe, North Indian         2.65\n",
       "Chinese, Chinese           2.60\n",
       "Name: rate, Length: 96, dtype: float64"
      ]
     },
     "execution_count": 92,
     "metadata": {},
     "output_type": "execute_result"
    }
   ],
   "source": [
    "df.groupby(\"cuisines\")[\"rate\"].mean().sort_values(ascending=False)"
   ]
  },
  {
   "cell_type": "code",
   "execution_count": null,
   "id": "3126d996-8ee2-42d4-8a48-818bb8d76fab",
   "metadata": {},
   "outputs": [],
   "source": [
    "\"\"\"📦 Online Ordering Impact\n",
    "How many restaurants offer online ordering vs not?\n",
    "\n",
    "What is the average rating for restaurants with vs without online ordering?\n",
    "\n",
    "Is online ordering more common in any particular location?\"\"\""
   ]
  },
  {
   "cell_type": "code",
   "execution_count": 93,
   "id": "2f64d46e-bf71-48ef-8a35-f794efc1316f",
   "metadata": {},
   "outputs": [
    {
     "data": {
      "text/html": [
       "<div>\n",
       "<style scoped>\n",
       "    .dataframe tbody tr th:only-of-type {\n",
       "        vertical-align: middle;\n",
       "    }\n",
       "\n",
       "    .dataframe tbody tr th {\n",
       "        vertical-align: top;\n",
       "    }\n",
       "\n",
       "    .dataframe thead th {\n",
       "        text-align: right;\n",
       "    }\n",
       "</style>\n",
       "<table border=\"1\" class=\"dataframe\">\n",
       "  <thead>\n",
       "    <tr style=\"text-align: right;\">\n",
       "      <th></th>\n",
       "      <th>name</th>\n",
       "      <th>location</th>\n",
       "      <th>rate</th>\n",
       "      <th>votes</th>\n",
       "      <th>approx_cost</th>\n",
       "      <th>cuisines</th>\n",
       "      <th>online_order</th>\n",
       "    </tr>\n",
       "  </thead>\n",
       "  <tbody>\n",
       "    <tr>\n",
       "      <th>0</th>\n",
       "      <td>Meghana Foods</td>\n",
       "      <td>HSR</td>\n",
       "      <td>2.7</td>\n",
       "      <td>1410</td>\n",
       "      <td>800</td>\n",
       "      <td>Fast Food, South Indian</td>\n",
       "      <td>No</td>\n",
       "    </tr>\n",
       "    <tr>\n",
       "      <th>1</th>\n",
       "      <td>Burger King</td>\n",
       "      <td>Koramangala</td>\n",
       "      <td>4.6</td>\n",
       "      <td>1724</td>\n",
       "      <td>700</td>\n",
       "      <td>Biryani, Mexican</td>\n",
       "      <td>Yes</td>\n",
       "    </tr>\n",
       "    <tr>\n",
       "      <th>2</th>\n",
       "      <td>Domino's</td>\n",
       "      <td>HSR</td>\n",
       "      <td>4.6</td>\n",
       "      <td>1070</td>\n",
       "      <td>1000</td>\n",
       "      <td>Italian, American</td>\n",
       "      <td>No</td>\n",
       "    </tr>\n",
       "    <tr>\n",
       "      <th>3</th>\n",
       "      <td>McDonald's</td>\n",
       "      <td>Marathahalli</td>\n",
       "      <td>4.2</td>\n",
       "      <td>1109</td>\n",
       "      <td>1000</td>\n",
       "      <td>North Indian, South Indian</td>\n",
       "      <td>Yes</td>\n",
       "    </tr>\n",
       "    <tr>\n",
       "      <th>4</th>\n",
       "      <td>Truffles</td>\n",
       "      <td>Rajajinagar</td>\n",
       "      <td>4.6</td>\n",
       "      <td>2728</td>\n",
       "      <td>300</td>\n",
       "      <td>American, Cafe</td>\n",
       "      <td>Yes</td>\n",
       "    </tr>\n",
       "  </tbody>\n",
       "</table>\n",
       "</div>"
      ],
      "text/plain": [
       "            name      location  rate  votes  approx_cost  \\\n",
       "0  Meghana Foods           HSR   2.7   1410          800   \n",
       "1    Burger King   Koramangala   4.6   1724          700   \n",
       "2       Domino's           HSR   4.6   1070         1000   \n",
       "3     McDonald's  Marathahalli   4.2   1109         1000   \n",
       "4       Truffles   Rajajinagar   4.6   2728          300   \n",
       "\n",
       "                     cuisines online_order  \n",
       "0     Fast Food, South Indian           No  \n",
       "1            Biryani, Mexican          Yes  \n",
       "2           Italian, American           No  \n",
       "3  North Indian, South Indian          Yes  \n",
       "4              American, Cafe          Yes  "
      ]
     },
     "execution_count": 93,
     "metadata": {},
     "output_type": "execute_result"
    }
   ],
   "source": [
    "df.head()"
   ]
  },
  {
   "cell_type": "code",
   "execution_count": 94,
   "id": "21150770-98ba-4a07-989f-71c439b47a59",
   "metadata": {},
   "outputs": [
    {
     "data": {
      "text/plain": [
       "Index(['name', 'location', 'rate', 'votes', 'approx_cost', 'cuisines',\n",
       "       'online_order'],\n",
       "      dtype='object')"
      ]
     },
     "execution_count": 94,
     "metadata": {},
     "output_type": "execute_result"
    }
   ],
   "source": [
    "df.columns"
   ]
  },
  {
   "cell_type": "code",
   "execution_count": 97,
   "id": "d1ca7f5d-beb1-4058-aa42-f36bb19c5b48",
   "metadata": {},
   "outputs": [
    {
     "data": {
      "text/plain": [
       "online_order\n",
       "No     128\n",
       "Yes    122\n",
       "Name: name, dtype: int64"
      ]
     },
     "execution_count": 97,
     "metadata": {},
     "output_type": "execute_result"
    }
   ],
   "source": [
    "#How many restaurants offer online ordering vs not?\n",
    "df.groupby(\"online_order\")[\"name\"].count()"
   ]
  },
  {
   "cell_type": "code",
   "execution_count": 99,
   "id": "1138dd9e-992e-4b7d-a88b-97b11c9b4d96",
   "metadata": {},
   "outputs": [
    {
     "data": {
      "text/plain": [
       "<Axes: xlabel='online_order'>"
      ]
     },
     "execution_count": 99,
     "metadata": {},
     "output_type": "execute_result"
    },
    {
     "data": {
      "image/png": "[encoded data removed]",
      "text/plain": [
       "<Figure size 640x480 with 1 Axes>"
      ]
     },
     "metadata": {},
     "output_type": "display_data"
    }
   ],
   "source": [
    "#What is the average rating for restaurants with vs without online ordering?\n",
    "df.groupby(\"online_order\")[\"rate\"].mean().plot(kind=\"bar\")"
   ]
  },
  {
   "cell_type": "code",
   "execution_count": 104,
   "id": "2c3af9c1-0f98-4bc1-b7c1-1fd5443ede53",
   "metadata": {},
   "outputs": [
    {
     "data": {
      "text/plain": [
       "location\n",
       "Jayanagar       18\n",
       "Indiranagar     16\n",
       "MG Road         16\n",
       "HSR             14\n",
       "Koramangala     13\n",
       "BTM             12\n",
       "Marathahalli    10\n",
       "Whitefield       9\n",
       "Bellandur        9\n",
       "Rajajinagar      5\n",
       "Name: count, dtype: int64"
      ]
     },
     "execution_count": 104,
     "metadata": {},
     "output_type": "execute_result"
    }
   ],
   "source": [
    "#Is online ordering more common in any particular location?\"\"\"\n",
    "fil_5=df[df[\"online_order\"]==\"Yes\"]\n",
    "fil_5[\"location\"].value_counts()"
   ]
  },
  {
   "cell_type": "code",
   "execution_count": 105,
   "id": "54ef1d0e-fef0-458d-a2e5-7d85ea99c9d1",
   "metadata": {},
   "outputs": [
    {
     "data": {
      "text/plain": [
       "122"
      ]
     },
     "execution_count": 105,
     "metadata": {},
     "output_type": "execute_result"
    }
   ],
   "source": [
    "len(fil_5)"
   ]
  },
  {
   "cell_type": "code",
   "execution_count": null,
   "id": "2fa7bfa3-f750-4b73-934a-64ca90478f56",
   "metadata": {},
   "outputs": [],
   "source": [
    "\"\"\"🏅 Top Performers\n",
    "Which are the top 10 highest-rated restaurants overall?\n",
    "\n",
    "Which restaurant has the maximum votes in each location?\"\"\""
   ]
  },
  {
   "cell_type": "code",
   "execution_count": 106,
   "id": "aab1e8ea-6516-4082-beb4-f0bb36ad9abc",
   "metadata": {},
   "outputs": [
    {
     "data": {
      "text/html": [
       "<div>\n",
       "<style scoped>\n",
       "    .dataframe tbody tr th:only-of-type {\n",
       "        vertical-align: middle;\n",
       "    }\n",
       "\n",
       "    .dataframe tbody tr th {\n",
       "        vertical-align: top;\n",
       "    }\n",
       "\n",
       "    .dataframe thead th {\n",
       "        text-align: right;\n",
       "    }\n",
       "</style>\n",
       "<table border=\"1\" class=\"dataframe\">\n",
       "  <thead>\n",
       "    <tr style=\"text-align: right;\">\n",
       "      <th></th>\n",
       "      <th>name</th>\n",
       "      <th>location</th>\n",
       "      <th>rate</th>\n",
       "      <th>votes</th>\n",
       "      <th>approx_cost</th>\n",
       "      <th>cuisines</th>\n",
       "      <th>online_order</th>\n",
       "    </tr>\n",
       "  </thead>\n",
       "  <tbody>\n",
       "    <tr>\n",
       "      <th>0</th>\n",
       "      <td>Meghana Foods</td>\n",
       "      <td>HSR</td>\n",
       "      <td>2.7</td>\n",
       "      <td>1410</td>\n",
       "      <td>800</td>\n",
       "      <td>Fast Food, South Indian</td>\n",
       "      <td>No</td>\n",
       "    </tr>\n",
       "    <tr>\n",
       "      <th>1</th>\n",
       "      <td>Burger King</td>\n",
       "      <td>Koramangala</td>\n",
       "      <td>4.6</td>\n",
       "      <td>1724</td>\n",
       "      <td>700</td>\n",
       "      <td>Biryani, Mexican</td>\n",
       "      <td>Yes</td>\n",
       "    </tr>\n",
       "    <tr>\n",
       "      <th>2</th>\n",
       "      <td>Domino's</td>\n",
       "      <td>HSR</td>\n",
       "      <td>4.6</td>\n",
       "      <td>1070</td>\n",
       "      <td>1000</td>\n",
       "      <td>Italian, American</td>\n",
       "      <td>No</td>\n",
       "    </tr>\n",
       "    <tr>\n",
       "      <th>3</th>\n",
       "      <td>McDonald's</td>\n",
       "      <td>Marathahalli</td>\n",
       "      <td>4.2</td>\n",
       "      <td>1109</td>\n",
       "      <td>1000</td>\n",
       "      <td>North Indian, South Indian</td>\n",
       "      <td>Yes</td>\n",
       "    </tr>\n",
       "    <tr>\n",
       "      <th>4</th>\n",
       "      <td>Truffles</td>\n",
       "      <td>Rajajinagar</td>\n",
       "      <td>4.6</td>\n",
       "      <td>2728</td>\n",
       "      <td>300</td>\n",
       "      <td>American, Cafe</td>\n",
       "      <td>Yes</td>\n",
       "    </tr>\n",
       "  </tbody>\n",
       "</table>\n",
       "</div>"
      ],
      "text/plain": [
       "            name      location  rate  votes  approx_cost  \\\n",
       "0  Meghana Foods           HSR   2.7   1410          800   \n",
       "1    Burger King   Koramangala   4.6   1724          700   \n",
       "2       Domino's           HSR   4.6   1070         1000   \n",
       "3     McDonald's  Marathahalli   4.2   1109         1000   \n",
       "4       Truffles   Rajajinagar   4.6   2728          300   \n",
       "\n",
       "                     cuisines online_order  \n",
       "0     Fast Food, South Indian           No  \n",
       "1            Biryani, Mexican          Yes  \n",
       "2           Italian, American           No  \n",
       "3  North Indian, South Indian          Yes  \n",
       "4              American, Cafe          Yes  "
      ]
     },
     "execution_count": 106,
     "metadata": {},
     "output_type": "execute_result"
    }
   ],
   "source": [
    "df.head()"
   ]
  },
  {
   "cell_type": "code",
   "execution_count": 107,
   "id": "46a79068-750f-44e0-b82e-de7fe1e0a1ca",
   "metadata": {},
   "outputs": [
    {
     "data": {
      "text/plain": [
       "Index(['name', 'location', 'rate', 'votes', 'approx_cost', 'cuisines',\n",
       "       'online_order'],\n",
       "      dtype='object')"
      ]
     },
     "execution_count": 107,
     "metadata": {},
     "output_type": "execute_result"
    }
   ],
   "source": [
    "df.columns"
   ]
  },
  {
   "cell_type": "code",
   "execution_count": 114,
   "id": "c211d4c3-dbf4-40ee-8f07-439e0f3cdb48",
   "metadata": {},
   "outputs": [
    {
     "data": {
      "text/html": [
       "<div>\n",
       "<style scoped>\n",
       "    .dataframe tbody tr th:only-of-type {\n",
       "        vertical-align: middle;\n",
       "    }\n",
       "\n",
       "    .dataframe tbody tr th {\n",
       "        vertical-align: top;\n",
       "    }\n",
       "\n",
       "    .dataframe thead th {\n",
       "        text-align: right;\n",
       "    }\n",
       "</style>\n",
       "<table border=\"1\" class=\"dataframe\">\n",
       "  <thead>\n",
       "    <tr style=\"text-align: right;\">\n",
       "      <th></th>\n",
       "      <th>rate</th>\n",
       "      <th>votes</th>\n",
       "    </tr>\n",
       "    <tr>\n",
       "      <th>name</th>\n",
       "      <th></th>\n",
       "      <th></th>\n",
       "    </tr>\n",
       "  </thead>\n",
       "  <tbody>\n",
       "    <tr>\n",
       "      <th>Pizza Hut</th>\n",
       "      <td>119.4</td>\n",
       "      <td>67572</td>\n",
       "    </tr>\n",
       "    <tr>\n",
       "      <th>Truffles</th>\n",
       "      <td>111.5</td>\n",
       "      <td>72161</td>\n",
       "    </tr>\n",
       "    <tr>\n",
       "      <th>Domino's</th>\n",
       "      <td>104.5</td>\n",
       "      <td>60989</td>\n",
       "    </tr>\n",
       "    <tr>\n",
       "      <th>Subway</th>\n",
       "      <td>96.9</td>\n",
       "      <td>57742</td>\n",
       "    </tr>\n",
       "    <tr>\n",
       "      <th>Taco Bell</th>\n",
       "      <td>92.4</td>\n",
       "      <td>52254</td>\n",
       "    </tr>\n",
       "    <tr>\n",
       "      <th>Burger King</th>\n",
       "      <td>90.1</td>\n",
       "      <td>63581</td>\n",
       "    </tr>\n",
       "    <tr>\n",
       "      <th>Meghana Foods</th>\n",
       "      <td>89.9</td>\n",
       "      <td>71802</td>\n",
       "    </tr>\n",
       "    <tr>\n",
       "      <th>McDonald's</th>\n",
       "      <td>81.2</td>\n",
       "      <td>44460</td>\n",
       "    </tr>\n",
       "    <tr>\n",
       "      <th>Empire</th>\n",
       "      <td>78.4</td>\n",
       "      <td>64376</td>\n",
       "    </tr>\n",
       "    <tr>\n",
       "      <th>KFC</th>\n",
       "      <td>65.8</td>\n",
       "      <td>41761</td>\n",
       "    </tr>\n",
       "  </tbody>\n",
       "</table>\n",
       "</div>"
      ],
      "text/plain": [
       "                rate  votes\n",
       "name                       \n",
       "Pizza Hut      119.4  67572\n",
       "Truffles       111.5  72161\n",
       "Domino's       104.5  60989\n",
       "Subway          96.9  57742\n",
       "Taco Bell       92.4  52254\n",
       "Burger King     90.1  63581\n",
       "Meghana Foods   89.9  71802\n",
       "McDonald's      81.2  44460\n",
       "Empire          78.4  64376\n",
       "KFC             65.8  41761"
      ]
     },
     "execution_count": 114,
     "metadata": {},
     "output_type": "execute_result"
    }
   ],
   "source": [
    "#Which are the top 10 highest-rated restaurants overall?\n",
    "fil_5=df.groupby(\"name\")[[\"rate\",\"votes\"]].sum().sort_values(by=\"rate\",ascending=False)\n",
    "fil_5"
   ]
  },
  {
   "cell_type": "code",
   "execution_count": 116,
   "id": "33bdf4e8-866d-4dae-82f5-bc8bad3c48a1",
   "metadata": {},
   "outputs": [
    {
     "data": {
      "text/plain": [
       "([0, 1, 2, 3, 4, 5, 6, 7, 8, 9],\n",
       " [Text(0, 0, 'Pizza Hut'),\n",
       "  Text(1, 0, 'Truffles'),\n",
       "  Text(2, 0, \"Domino's\"),\n",
       "  Text(3, 0, 'Subway'),\n",
       "  Text(4, 0, 'Taco Bell'),\n",
       "  Text(5, 0, 'Burger King'),\n",
       "  Text(6, 0, 'Meghana Foods'),\n",
       "  Text(7, 0, \"McDonald's\"),\n",
       "  Text(8, 0, 'Empire'),\n",
       "  Text(9, 0, 'KFC')])"
      ]
     },
     "execution_count": 116,
     "metadata": {},
     "output_type": "execute_result"
    },
    {
     "data": {
      "image/png": "[encoded data removed]",
      "text/plain": [
       "<Figure size 640x480 with 1 Axes>"
      ]
     },
     "metadata": {},
     "output_type": "display_data"
    }
   ],
   "source": [
    "sns.barplot(data=fil_5,x=\"name\",y=\"rate\",hue=\"votes\")\n",
    "plt.xticks(rotation=90)"
   ]
  },
  {
   "cell_type": "code",
   "execution_count": 121,
   "id": "a757f72a-b00a-4b06-b78b-88edfade6783",
   "metadata": {},
   "outputs": [
    {
     "data": {
      "text/plain": [
       "location\n",
       "BTM             57246\n",
       "Bellandur       55010\n",
       "HSR             57281\n",
       "Indiranagar     55275\n",
       "Jayanagar       83829\n",
       "Koramangala     77105\n",
       "MG Road         73525\n",
       "Marathahalli    45602\n",
       "Rajajinagar     54960\n",
       "Whitefield      36865\n",
       "Name: votes, dtype: int64"
      ]
     },
     "execution_count": 121,
     "metadata": {},
     "output_type": "execute_result"
    }
   ],
   "source": [
    "#Which restaurant has the maximum votes in each location?\"\"\"\n",
    "max_vot=df.groupby(\"location\")[\"votes\"].sum()\n",
    "max_vot"
   ]
  },
  {
   "cell_type": "code",
   "execution_count": 125,
   "id": "03983117-c00d-4a5a-b810-c58dd11d87bf",
   "metadata": {},
   "outputs": [],
   "source": [
    "top_vot=df.sort_values([\"location\",\"votes\"],ascending=[True,False])"
   ]
  },
  {
   "cell_type": "code",
   "execution_count": 130,
   "id": "4d893881-36f7-4329-84cb-5ea2a6911868",
   "metadata": {},
   "outputs": [
    {
     "data": {
      "text/html": [
       "<div>\n",
       "<style scoped>\n",
       "    .dataframe tbody tr th:only-of-type {\n",
       "        vertical-align: middle;\n",
       "    }\n",
       "\n",
       "    .dataframe tbody tr th {\n",
       "        vertical-align: top;\n",
       "    }\n",
       "\n",
       "    .dataframe thead th {\n",
       "        text-align: right;\n",
       "    }\n",
       "</style>\n",
       "<table border=\"1\" class=\"dataframe\">\n",
       "  <thead>\n",
       "    <tr style=\"text-align: right;\">\n",
       "      <th></th>\n",
       "      <th>location</th>\n",
       "      <th>name</th>\n",
       "      <th>votes</th>\n",
       "    </tr>\n",
       "  </thead>\n",
       "  <tbody>\n",
       "    <tr>\n",
       "      <th>122</th>\n",
       "      <td>BTM</td>\n",
       "      <td>KFC</td>\n",
       "      <td>4951</td>\n",
       "    </tr>\n",
       "    <tr>\n",
       "      <th>84</th>\n",
       "      <td>BTM</td>\n",
       "      <td>Truffles</td>\n",
       "      <td>4699</td>\n",
       "    </tr>\n",
       "    <tr>\n",
       "      <th>36</th>\n",
       "      <td>BTM</td>\n",
       "      <td>KFC</td>\n",
       "      <td>4560</td>\n",
       "    </tr>\n",
       "    <tr>\n",
       "      <th>240</th>\n",
       "      <td>BTM</td>\n",
       "      <td>Pizza Hut</td>\n",
       "      <td>4547</td>\n",
       "    </tr>\n",
       "    <tr>\n",
       "      <th>157</th>\n",
       "      <td>BTM</td>\n",
       "      <td>Pizza Hut</td>\n",
       "      <td>4166</td>\n",
       "    </tr>\n",
       "    <tr>\n",
       "      <th>...</th>\n",
       "      <td>...</td>\n",
       "      <td>...</td>\n",
       "      <td>...</td>\n",
       "    </tr>\n",
       "    <tr>\n",
       "      <th>97</th>\n",
       "      <td>Whitefield</td>\n",
       "      <td>Burger King</td>\n",
       "      <td>1184</td>\n",
       "    </tr>\n",
       "    <tr>\n",
       "      <th>229</th>\n",
       "      <td>Whitefield</td>\n",
       "      <td>Taco Bell</td>\n",
       "      <td>883</td>\n",
       "    </tr>\n",
       "    <tr>\n",
       "      <th>181</th>\n",
       "      <td>Whitefield</td>\n",
       "      <td>Burger King</td>\n",
       "      <td>812</td>\n",
       "    </tr>\n",
       "    <tr>\n",
       "      <th>55</th>\n",
       "      <td>Whitefield</td>\n",
       "      <td>Pizza Hut</td>\n",
       "      <td>677</td>\n",
       "    </tr>\n",
       "    <tr>\n",
       "      <th>159</th>\n",
       "      <td>Whitefield</td>\n",
       "      <td>McDonald's</td>\n",
       "      <td>201</td>\n",
       "    </tr>\n",
       "  </tbody>\n",
       "</table>\n",
       "<p>250 rows × 3 columns</p>\n",
       "</div>"
      ],
      "text/plain": [
       "       location         name  votes\n",
       "122         BTM          KFC   4951\n",
       "84          BTM     Truffles   4699\n",
       "36          BTM          KFC   4560\n",
       "240         BTM    Pizza Hut   4547\n",
       "157         BTM    Pizza Hut   4166\n",
       "..          ...          ...    ...\n",
       "97   Whitefield  Burger King   1184\n",
       "229  Whitefield    Taco Bell    883\n",
       "181  Whitefield  Burger King    812\n",
       "55   Whitefield    Pizza Hut    677\n",
       "159  Whitefield   McDonald's    201\n",
       "\n",
       "[250 rows x 3 columns]"
      ]
     },
     "execution_count": 130,
     "metadata": {},
     "output_type": "execute_result"
    }
   ],
   "source": [
    "top_vot[[\"location\", \"name\", \"votes\"]]"
   ]
  },
  {
   "cell_type": "code",
   "execution_count": null,
   "id": "e7b75562-dc97-45a0-ba7b-f571e77fa17a",
   "metadata": {},
   "outputs": [],
   "source": []
  }
 ],
 "metadata": {
  "kernelspec": {
   "display_name": "Python 3 (ipykernel)",
   "language": "python",
   "name": "python3"
  },
  "language_info": {
   "codemirror_mode": {
    "name": "ipython",
    "version": 3
   },
   "file_extension": ".py",
   "mimetype": "text/x-python",
   "name": "python",
   "nbconvert_exporter": "python",
   "pygments_lexer": "ipython3",
   "version": "3.12.7"
  }
 },
 "nbformat": 4,
 "nbformat_minor": 5
}
